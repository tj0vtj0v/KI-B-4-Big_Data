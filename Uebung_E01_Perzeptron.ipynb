{
 "cells": [
  {
   "cell_type": "markdown",
   "id": "0",
   "metadata": {},
   "source": [
    "# Perzeptron\n",
    "Deep Learning - KI29  \n",
    "Deggendorf Institute of Technology  \n",
    "Prof. Dr. Florian Wahl"
   ]
  },
  {
   "cell_type": "markdown",
   "id": "1",
   "metadata": {},
   "source": [
    "## Teil 1: Perzeptron Beispiel ohne numpy\n",
    "1. Machen Sie sich mit Jupyter Notebooks vertraut\n",
    "2. Implementieren Sie ein Hello World\n",
    "3. Legen Sie die Listen `inputs`, `weights` mit je 4 Elementen (4 Eingänge, 1 Neuron) an, sowie die Variable `bias` an\n",
    "4. Berechnen Sie den Output (ohne Aktivierungsfunktion) \"händisch\", ohne Schleifen"
   ]
  },
  {
   "cell_type": "markdown",
   "id": "2",
   "metadata": {},
   "source": [
    "## Teil 2: Mehr Perzeptronen\n",
    "Erweitern Sie Ihr Beispiel um 2 weitere Perzeptronen."
   ]
  },
  {
   "cell_type": "markdown",
   "id": "3",
   "metadata": {},
   "source": [
    "## Teil 3: Perzeptron Beispiel mit numpy\n",
    "1. Machen Sie sich mit numpy arrays vertraut\n",
    "2. Implementieren Sie das Beispiel aus Teil 1.4, aber dieses Mal mit numpy und der Funktion `np.dot()`\n",
    "3. Implementieren Sie das Beispiel aus Teil 2, aber dieses Mal mit numpy und der Funktion `np.dot()`"
   ]
  },
  {
   "cell_type": "markdown",
   "id": "4",
   "metadata": {},
   "source": [
    "## Teil 4: Mehrere Observationen\n",
    "Skalieren Sie das Beispiel so, dass es für mehrere Observationen (hier 3) und Perzeptronen (hier 3) in einer Schicht funktioniert. Legen Sie hierfür die 4x3 Matritzen für `inputs` und `weights` als Listen von Listen an. "
   ]
  }
 ],
 "metadata": {
  "celltoolbar": "Tags",
  "kernelspec": {
   "display_name": "Python 3 (ipykernel)",
   "language": "python",
   "name": "python3"
  },
  "language_info": {
   "codemirror_mode": {
    "name": "ipython",
    "version": 3
   },
   "file_extension": ".py",
   "mimetype": "text/x-python",
   "name": "python",
   "nbconvert_exporter": "python",
   "pygments_lexer": "ipython3",
   "version": "3.10.4"
  }
 },
 "nbformat": 4,
 "nbformat_minor": 5
}
